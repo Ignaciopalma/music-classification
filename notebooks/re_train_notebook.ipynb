{
 "cells": [
  {
   "cell_type": "code",
   "execution_count": 1,
   "metadata": {},
   "outputs": [
    {
     "name": "stderr",
     "output_type": "stream",
     "text": [
      "Using TensorFlow backend.\n"
     ]
    }
   ],
   "source": [
    "import tensorflow as tf\n",
    "import numpy as np\n",
    "import pandas as pd\n",
    "from PIL import Image\n",
    "import os\n",
    "import re\n",
    "import random\n",
    "from keras.models import model_from_json, load_model\n",
    "from keras import optimizers\n",
    "from keras.callbacks import TensorBoard\n",
    "import sys\n",
    "import matplotlib.pyplot as plt\n",
    "import json"
   ]
  },
  {
   "cell_type": "code",
   "execution_count": 2,
   "metadata": {},
   "outputs": [],
   "source": [
    "TRAIN_FILES_DIR = './train_files/'\n",
    "CSV_FILE_PATH = './small_train_labels.csv'\n",
    "UNIFORM_IMAGE_SIZE = (1000, 1000)\n",
    "NUMBER_OF_GENRES = 8\n",
    "EPOCHS = 20\n",
    "BATCH_SIZE = 10\n",
    "LEARNING_RATE = 0.01\n",
    "START = 400\n",
    "FINISH = 500"
   ]
  },
  {
   "cell_type": "code",
   "execution_count": 3,
   "metadata": {},
   "outputs": [
    {
     "name": "stderr",
     "output_type": "stream",
     "text": [
      "WARNING: Logging before flag parsing goes to stderr.\n",
      "W0717 02:54:50.352434 139763659806464 deprecation_wrapper.py:119] From /usr/local/lib/python3.5/dist-packages/keras/backend/tensorflow_backend.py:517: The name tf.placeholder is deprecated. Please use tf.compat.v1.placeholder instead.\n",
      "\n",
      "W0717 02:54:50.372291 139763659806464 deprecation_wrapper.py:119] From /usr/local/lib/python3.5/dist-packages/keras/backend/tensorflow_backend.py:4138: The name tf.random_uniform is deprecated. Please use tf.random.uniform instead.\n",
      "\n",
      "W0717 02:54:50.389347 139763659806464 deprecation_wrapper.py:119] From /usr/local/lib/python3.5/dist-packages/keras/backend/tensorflow_backend.py:3976: The name tf.nn.max_pool is deprecated. Please use tf.nn.max_pool2d instead.\n",
      "\n",
      "W0717 02:54:50.407022 139763659806464 deprecation_wrapper.py:119] From /usr/local/lib/python3.5/dist-packages/keras/backend/tensorflow_backend.py:131: The name tf.get_default_graph is deprecated. Please use tf.compat.v1.get_default_graph instead.\n",
      "\n",
      "W0717 02:54:50.408252 139763659806464 deprecation_wrapper.py:119] From /usr/local/lib/python3.5/dist-packages/keras/backend/tensorflow_backend.py:133: The name tf.placeholder_with_default is deprecated. Please use tf.compat.v1.placeholder_with_default instead.\n",
      "\n",
      "W0717 02:54:50.418138 139763659806464 deprecation.py:506] From /usr/local/lib/python3.5/dist-packages/keras/backend/tensorflow_backend.py:3445: calling dropout (from tensorflow.python.ops.nn_ops) with keep_prob is deprecated and will be removed in a future version.\n",
      "Instructions for updating:\n",
      "Please use `rate` instead of `keep_prob`. Rate should be set to `rate = 1 - keep_prob`.\n",
      "W0717 02:54:50.496793 139763659806464 deprecation_wrapper.py:119] From /usr/local/lib/python3.5/dist-packages/keras/backend/tensorflow_backend.py:174: The name tf.get_default_session is deprecated. Please use tf.compat.v1.get_default_session instead.\n",
      "\n",
      "W0717 02:54:53.318336 139763659806464 deprecation_wrapper.py:119] From /usr/local/lib/python3.5/dist-packages/keras/optimizers.py:790: The name tf.train.Optimizer is deprecated. Please use tf.compat.v1.train.Optimizer instead.\n",
      "\n",
      "W0717 02:54:53.436825 139763659806464 deprecation.py:323] From /usr/local/lib/python3.5/dist-packages/tensorflow/python/ops/math_grad.py:1250: add_dispatch_support.<locals>.wrapper (from tensorflow.python.ops.array_ops) is deprecated and will be removed in a future version.\n",
      "Instructions for updating:\n",
      "Use tf.where in 2.0, which has the same broadcast rule as np.where\n"
     ]
    },
    {
     "name": "stdout",
     "output_type": "stream",
     "text": [
      "_________________________________________________________________\n",
      "Layer (type)                 Output Shape              Param #   \n",
      "=================================================================\n",
      "conv2d_1 (Conv2D)            (None, 1000, 1000, 2)     16002     \n",
      "_________________________________________________________________\n",
      "max_pooling2d_1 (MaxPooling2 (None, 200, 200, 2)       0         \n",
      "_________________________________________________________________\n",
      "conv2d_2 (Conv2D)            (None, 200, 200, 4)       8004      \n",
      "_________________________________________________________________\n",
      "max_pooling2d_2 (MaxPooling2 (None, 40, 40, 4)         0         \n",
      "_________________________________________________________________\n",
      "dropout_1 (Dropout)          (None, 40, 40, 4)         0         \n",
      "_________________________________________________________________\n",
      "flatten_1 (Flatten)          (None, 6400)              0         \n",
      "_________________________________________________________________\n",
      "dense_1 (Dense)              (None, 128)               819328    \n",
      "_________________________________________________________________\n",
      "dense_2 (Dense)              (None, 8)                 1032      \n",
      "=================================================================\n",
      "Total params: 844,366\n",
      "Trainable params: 844,366\n",
      "Non-trainable params: 0\n",
      "_________________________________________________________________\n"
     ]
    }
   ],
   "source": [
    "# Full Model\n",
    "model = load_model('long-frame-whole-model.h5')\n",
    "\n",
    "model.summary()"
   ]
  },
  {
   "cell_type": "code",
   "execution_count": 3,
   "metadata": {},
   "outputs": [
    {
     "name": "stderr",
     "output_type": "stream",
     "text": [
      "WARNING: Logging before flag parsing goes to stderr.\n",
      "W0716 21:35:16.045390 139887354853120 deprecation_wrapper.py:119] From /usr/local/lib/python3.5/dist-packages/keras/backend/tensorflow_backend.py:517: The name tf.placeholder is deprecated. Please use tf.compat.v1.placeholder instead.\n",
      "\n",
      "W0716 21:35:16.064756 139887354853120 deprecation_wrapper.py:119] From /usr/local/lib/python3.5/dist-packages/keras/backend/tensorflow_backend.py:4138: The name tf.random_uniform is deprecated. Please use tf.random.uniform instead.\n",
      "\n",
      "W0716 21:35:16.082507 139887354853120 deprecation_wrapper.py:119] From /usr/local/lib/python3.5/dist-packages/keras/backend/tensorflow_backend.py:3976: The name tf.nn.max_pool is deprecated. Please use tf.nn.max_pool2d instead.\n",
      "\n",
      "W0716 21:35:16.100969 139887354853120 deprecation_wrapper.py:119] From /usr/local/lib/python3.5/dist-packages/keras/backend/tensorflow_backend.py:131: The name tf.get_default_graph is deprecated. Please use tf.compat.v1.get_default_graph instead.\n",
      "\n",
      "W0716 21:35:16.101840 139887354853120 deprecation_wrapper.py:119] From /usr/local/lib/python3.5/dist-packages/keras/backend/tensorflow_backend.py:133: The name tf.placeholder_with_default is deprecated. Please use tf.compat.v1.placeholder_with_default instead.\n",
      "\n",
      "W0716 21:35:16.111978 139887354853120 deprecation.py:506] From /usr/local/lib/python3.5/dist-packages/keras/backend/tensorflow_backend.py:3445: calling dropout (from tensorflow.python.ops.nn_ops) with keep_prob is deprecated and will be removed in a future version.\n",
      "Instructions for updating:\n",
      "Please use `rate` instead of `keep_prob`. Rate should be set to `rate = 1 - keep_prob`.\n",
      "W0716 21:35:16.193462 139887354853120 deprecation_wrapper.py:119] From /usr/local/lib/python3.5/dist-packages/keras/backend/tensorflow_backend.py:174: The name tf.get_default_session is deprecated. Please use tf.compat.v1.get_default_session instead.\n",
      "\n",
      "W0716 21:35:19.024888 139887354853120 deprecation_wrapper.py:119] From /usr/local/lib/python3.5/dist-packages/keras/optimizers.py:790: The name tf.train.Optimizer is deprecated. Please use tf.compat.v1.train.Optimizer instead.\n",
      "\n"
     ]
    }
   ],
   "source": [
    "json_file = open('long-frame-model.json')\n",
    "\n",
    "model = model_from_json(json_file.read())\n",
    "model.load_weights('long-frame-model.h5')\n",
    "\n",
    "model.compile(optimizer=optimizers.Adadelta(lr=LEARNING_RATE),\n",
    "              loss='categorical_crossentropy',\n",
    "              metrics=['accuracy'])"
   ]
  },
  {
   "cell_type": "code",
   "execution_count": 4,
   "metadata": {},
   "outputs": [],
   "source": [
    "csv_file = pd.read_csv(CSV_FILE_PATH)\n",
    "all_genres = csv_file['genre'].unique()\n",
    "genre_to_index = {genre: index for index, genre in enumerate(all_genres)}"
   ]
  },
  {
   "cell_type": "code",
   "execution_count": null,
   "metadata": {},
   "outputs": [],
   "source": []
  },
  {
   "cell_type": "code",
   "execution_count": 5,
   "metadata": {},
   "outputs": [],
   "source": [
    "sess = tf.Session(config=tf.ConfigProto(log_device_placement=True))"
   ]
  },
  {
   "cell_type": "code",
   "execution_count": 6,
   "metadata": {},
   "outputs": [],
   "source": [
    "def build_train_and_test_data():\n",
    "  train_data = []\n",
    "  train_labels = []\n",
    "\n",
    "  list_of_files = os.listdir(TRAIN_FILES_DIR)[START:FINISH]\n",
    "  for file_index, file in enumerate(list_of_files):\n",
    "    raw_image = Image.open(TRAIN_FILES_DIR + file)\n",
    "    resized_image = raw_image.resize(UNIFORM_IMAGE_SIZE)\n",
    "    image_tensor = np.asarray(resized_image)\n",
    "    train_data.append(image_tensor)\n",
    "\n",
    "    file_as_str_number = re.sub('([a-z])|(\\.)', '', file)\n",
    "    label_name = csv_file[csv_file['track_id'] == int(file_as_str_number)]['genre'].values[0]\n",
    "    train_labels.append(genre_to_index[label_name])\n",
    "  return (\n",
    "    np.array(train_data).astype(np.float32),\n",
    "    np.array(train_labels, np.int32)\n",
    "  )"
   ]
  },
  {
   "cell_type": "code",
   "execution_count": null,
   "metadata": {},
   "outputs": [],
   "source": []
  },
  {
   "cell_type": "code",
   "execution_count": 7,
   "metadata": {},
   "outputs": [],
   "source": [
    "train_data, train_labels = build_train_and_test_data()\n",
    "train_data /= 255\n",
    "\n",
    "dummy_labels = np.zeros((len(train_labels), NUMBER_OF_GENRES), np.float32)\n",
    "\n",
    "for index, label in enumerate(train_labels):\n",
    "  dummy_labels[index][label] = 1\n"
   ]
  },
  {
   "cell_type": "code",
   "execution_count": null,
   "metadata": {},
   "outputs": [],
   "source": []
  },
  {
   "cell_type": "code",
   "execution_count": 8,
   "metadata": {},
   "outputs": [
    {
     "name": "stdout",
     "output_type": "stream",
     "text": [
      "Train on 80 samples, validate on 20 samples\n",
      "Epoch 1/20\n",
      "80/80 [==============================] - 96s 1s/step - loss: 2.0201 - acc: 0.2000 - val_loss: 2.1145 - val_acc: 0.3500\n",
      "Epoch 2/20\n",
      "80/80 [==============================] - 73s 909ms/step - loss: 1.9489 - acc: 0.2750 - val_loss: 2.0831 - val_acc: 0.1000\n",
      "Epoch 3/20\n",
      "80/80 [==============================] - 73s 909ms/step - loss: 1.8899 - acc: 0.2875 - val_loss: 2.1005 - val_acc: 0.1000\n",
      "Epoch 4/20\n",
      "80/80 [==============================] - 73s 910ms/step - loss: 1.8680 - acc: 0.3500 - val_loss: 2.1117 - val_acc: 0.1500\n",
      "Epoch 5/20\n",
      "80/80 [==============================] - 73s 908ms/step - loss: 1.8882 - acc: 0.2375 - val_loss: 2.1869 - val_acc: 0.3000\n",
      "Epoch 6/20\n",
      "80/80 [==============================] - 73s 909ms/step - loss: 1.8454 - acc: 0.2875 - val_loss: 2.0743 - val_acc: 0.1500\n",
      "Epoch 7/20\n",
      "80/80 [==============================] - 73s 910ms/step - loss: 1.7888 - acc: 0.2750 - val_loss: 2.1325 - val_acc: 0.2000\n",
      "Epoch 8/20\n",
      "80/80 [==============================] - 73s 909ms/step - loss: 1.8165 - acc: 0.3375 - val_loss: 2.1642 - val_acc: 0.3000\n",
      "Epoch 9/20\n",
      "80/80 [==============================] - 73s 910ms/step - loss: 1.7951 - acc: 0.2875 - val_loss: 2.1412 - val_acc: 0.2500\n",
      "Epoch 10/20\n",
      "80/80 [==============================] - 73s 910ms/step - loss: 1.7476 - acc: 0.4000 - val_loss: 2.1933 - val_acc: 0.3000\n",
      "Epoch 11/20\n",
      "80/80 [==============================] - 73s 909ms/step - loss: 1.7228 - acc: 0.3750 - val_loss: 2.1191 - val_acc: 0.1500\n",
      "Epoch 12/20\n",
      "80/80 [==============================] - 73s 909ms/step - loss: 1.7133 - acc: 0.3625 - val_loss: 2.1436 - val_acc: 0.1500\n",
      "Epoch 13/20\n",
      "80/80 [==============================] - 73s 911ms/step - loss: 1.6716 - acc: 0.4500 - val_loss: 2.1210 - val_acc: 0.2000\n",
      "Epoch 14/20\n",
      "80/80 [==============================] - 73s 910ms/step - loss: 1.6830 - acc: 0.3375 - val_loss: 2.1701 - val_acc: 0.2000\n",
      "Epoch 15/20\n",
      "80/80 [==============================] - 73s 910ms/step - loss: 1.6836 - acc: 0.4250 - val_loss: 2.1858 - val_acc: 0.2000\n",
      "Epoch 16/20\n",
      "80/80 [==============================] - 73s 910ms/step - loss: 1.6943 - acc: 0.3500 - val_loss: 2.1645 - val_acc: 0.2000\n",
      "Epoch 17/20\n",
      "80/80 [==============================] - 73s 910ms/step - loss: 1.6651 - acc: 0.3250 - val_loss: 2.1223 - val_acc: 0.1500\n",
      "Epoch 18/20\n",
      "80/80 [==============================] - 73s 911ms/step - loss: 1.6217 - acc: 0.3375 - val_loss: 2.1171 - val_acc: 0.2000\n",
      "Epoch 19/20\n",
      "80/80 [==============================] - 73s 909ms/step - loss: 1.6059 - acc: 0.4375 - val_loss: 2.0826 - val_acc: 0.2000\n",
      "Epoch 20/20\n",
      "80/80 [==============================] - 73s 910ms/step - loss: 1.5736 - acc: 0.3750 - val_loss: 2.1052 - val_acc: 0.1500\n"
     ]
    }
   ],
   "source": [
    "history = model.fit(\n",
    "  train_data,\n",
    "  dummy_labels,\n",
    "  batch_size=BATCH_SIZE,\n",
    "  epochs=EPOCHS,\n",
    "  validation_split=0.2,\n",
    "  verbose=1\n",
    ")"
   ]
  },
  {
   "cell_type": "code",
   "execution_count": 9,
   "metadata": {},
   "outputs": [
    {
     "data": {
      "image/png": "[encoded data removed]",
      "text/plain": [
       "<Figure size 432x288 with 1 Axes>"
      ]
     },
     "metadata": {
      "needs_background": "light"
     },
     "output_type": "display_data"
    },
    {
     "data": {
      "image/png": "[encoded data removed]",
      "text/plain": [
       "<Figure size 432x288 with 1 Axes>"
      ]
     },
     "metadata": {
      "needs_background": "light"
     },
     "output_type": "display_data"
    }
   ],
   "source": [
    "# Plot training & validation accuracy values\n",
    "plt.plot(history.history['acc'])\n",
    "plt.plot(history.history['val_acc'])\n",
    "plt.title('Model accuracy')\n",
    "plt.ylabel('Accuracy')\n",
    "plt.xlabel('Epoch')\n",
    "plt.legend(['Train', 'Test'], loc='upper left')\n",
    "plt.show()\n",
    "\n",
    "# Plot training & validation loss values\n",
    "plt.plot(history.history['loss'])\n",
    "plt.plot(history.history['val_loss'])\n",
    "plt.title('Model loss')\n",
    "plt.ylabel('Loss')\n",
    "plt.xlabel('Epoch')\n",
    "plt.legend(['Train', 'Test'], loc='upper left')\n",
    "plt.show()"
   ]
  },
  {
   "cell_type": "code",
   "execution_count": 11,
   "metadata": {},
   "outputs": [
    {
     "name": "stdout",
     "output_type": "stream",
     "text": [
      "Saved model to disk\n"
     ]
    }
   ],
   "source": [
    "# serialize model to JSON\n",
    "model_json = model.to_json()\n",
    "with open(\"re_model.json\", \"w\") as json_file:\n",
    "    json_file.write(model_json)\n",
    "\n",
    "# serialize weights to HDF5\n",
    "model.save_weights(\"re_model.h5\")\n",
    "print(\"Saved model to disk\")"
   ]
  },
  {
   "cell_type": "code",
   "execution_count": 10,
   "metadata": {},
   "outputs": [],
   "source": [
    "# Save whole model\n",
    "model.save('long-frame-whole-model.h5')"
   ]
  },
  {
   "cell_type": "code",
   "execution_count": 11,
   "metadata": {},
   "outputs": [],
   "source": [
    "json_history = json.dumps(history.history)"
   ]
  },
  {
   "cell_type": "code",
   "execution_count": 13,
   "metadata": {},
   "outputs": [],
   "source": [
    "with open('./long-frame-json/whole-model/history-'+ str(START) +'-'+ str(FINISH) +'.json', 'w') as file:\n",
    "    json.dump(json_history, file)"
   ]
  },
  {
   "cell_type": "code",
   "execution_count": null,
   "metadata": {},
   "outputs": [],
   "source": []
  }
 ],
 "metadata": {
  "kernelspec": {
   "display_name": "Python 3",
   "language": "python",
   "name": "python3"
  },
  "language_info": {
   "codemirror_mode": {
    "name": "ipython",
    "version": 3
   },
   "file_extension": ".py",
   "mimetype": "text/x-python",
   "name": "python",
   "nbconvert_exporter": "python",
   "pygments_lexer": "ipython3",
   "version": "3.5.3"
  }
 },
 "nbformat": 4,
 "nbformat_minor": 2
}
