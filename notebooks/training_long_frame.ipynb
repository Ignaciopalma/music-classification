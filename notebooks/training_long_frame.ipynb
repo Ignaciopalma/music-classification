{
 "cells": [
  {
   "cell_type": "code",
   "execution_count": 1,
   "metadata": {},
   "outputs": [
    {
     "name": "stderr",
     "output_type": "stream",
     "text": [
      "Using TensorFlow backend.\n"
     ]
    }
   ],
   "source": [
    "import tensorflow as tf\n",
    "import numpy as np\n",
    "import pandas as pd\n",
    "from PIL import Image\n",
    "import os\n",
    "import re\n",
    "import random\n",
    "from keras.models import Sequential\n",
    "from keras.layers import Dense, Conv2D, Flatten, MaxPooling2D, Reshape, Dropout\n",
    "from keras import optimizers\n",
    "from keras.callbacks import TensorBoard\n",
    "import sys\n",
    "from keras.utils import plot_model\n",
    "import matplotlib.pyplot as plt\n",
    "import json"
   ]
  },
  {
   "cell_type": "code",
   "execution_count": 2,
   "metadata": {},
   "outputs": [],
   "source": [
    "NUMBER_OF_GENRES = 8\n",
    "TRAIN_FILES_DIR = './train_files/'\n",
    "CSV_FILE_PATH = './small_train_labels.csv'"
   ]
  },
  {
   "cell_type": "code",
   "execution_count": 3,
   "metadata": {},
   "outputs": [],
   "source": [
    "csv_file = pd.read_csv(CSV_FILE_PATH)\n",
    "all_genres = csv_file['genre'].unique()\n",
    "genre_to_index = {genre: index for index, genre in enumerate(all_genres)}"
   ]
  },
  {
   "cell_type": "code",
   "execution_count": 4,
   "metadata": {},
   "outputs": [],
   "source": [
    "sess = tf.Session(config=tf.ConfigProto(log_device_placement=True))"
   ]
  },
  {
   "cell_type": "code",
   "execution_count": 5,
   "metadata": {},
   "outputs": [],
   "source": [
    "UNIFORM_IMAGE_SIZE = (1000, 1000)\n",
    "EPOCHS = 20\n",
    "BATCH_SIZE = 10\n",
    "LEARNING_RATE = 0.02\n",
    "START = 0\n",
    "FINISH = 100"
   ]
  },
  {
   "cell_type": "code",
   "execution_count": 6,
   "metadata": {},
   "outputs": [],
   "source": [
    "def build_train_and_test_data():\n",
    "  train_data = []\n",
    "  train_labels = []\n",
    "\n",
    "  list_of_files = os.listdir(TRAIN_FILES_DIR)[START:FINISH]\n",
    "  for file_index, file in enumerate(list_of_files):\n",
    "    raw_image = Image.open(TRAIN_FILES_DIR + file)\n",
    "    resized_image = raw_image.resize(UNIFORM_IMAGE_SIZE)\n",
    "    image_tensor = np.asarray(resized_image)\n",
    "    train_data.append(image_tensor)\n",
    "\n",
    "    file_as_str_number = re.sub('([a-z])|(\\.)', '', file)\n",
    "    label_name = csv_file[csv_file['track_id'] == int(file_as_str_number)]['genre'].values[0]\n",
    "    train_labels.append(genre_to_index[label_name])\n",
    "  return (\n",
    "    np.array(train_data).astype(np.float32),\n",
    "    np.array(train_labels, np.int32)\n",
    "  )"
   ]
  },
  {
   "cell_type": "code",
   "execution_count": 7,
   "metadata": {},
   "outputs": [],
   "source": [
    "train_data, train_labels = build_train_and_test_data()\n",
    "train_data /= 255\n",
    "\n",
    "dummy_labels = np.zeros((len(train_labels), NUMBER_OF_GENRES), np.float32)\n",
    "\n",
    "for index, label in enumerate(train_labels):\n",
    "  dummy_labels[index][label] = 1"
   ]
  },
  {
   "cell_type": "code",
   "execution_count": 8,
   "metadata": {},
   "outputs": [
    {
     "name": "stderr",
     "output_type": "stream",
     "text": [
      "WARNING: Logging before flag parsing goes to stderr.\n",
      "W0717 00:41:51.339769 140335259002624 deprecation_wrapper.py:119] From /usr/local/lib/python3.5/dist-packages/keras/backend/tensorflow_backend.py:74: The name tf.get_default_graph is deprecated. Please use tf.compat.v1.get_default_graph instead.\n",
      "\n",
      "W0717 00:41:51.341544 140335259002624 deprecation_wrapper.py:119] From /usr/local/lib/python3.5/dist-packages/keras/backend/tensorflow_backend.py:517: The name tf.placeholder is deprecated. Please use tf.compat.v1.placeholder instead.\n",
      "\n",
      "W0717 00:41:51.345171 140335259002624 deprecation_wrapper.py:119] From /usr/local/lib/python3.5/dist-packages/keras/backend/tensorflow_backend.py:4138: The name tf.random_uniform is deprecated. Please use tf.random.uniform instead.\n",
      "\n",
      "W0717 00:41:51.361289 140335259002624 deprecation_wrapper.py:119] From /usr/local/lib/python3.5/dist-packages/keras/backend/tensorflow_backend.py:3976: The name tf.nn.max_pool is deprecated. Please use tf.nn.max_pool2d instead.\n",
      "\n",
      "W0717 00:41:51.379102 140335259002624 deprecation_wrapper.py:119] From /usr/local/lib/python3.5/dist-packages/keras/backend/tensorflow_backend.py:133: The name tf.placeholder_with_default is deprecated. Please use tf.compat.v1.placeholder_with_default instead.\n",
      "\n",
      "W0717 00:41:51.388016 140335259002624 deprecation.py:506] From /usr/local/lib/python3.5/dist-packages/keras/backend/tensorflow_backend.py:3445: calling dropout (from tensorflow.python.ops.nn_ops) with keep_prob is deprecated and will be removed in a future version.\n",
      "Instructions for updating:\n",
      "Please use `rate` instead of `keep_prob`. Rate should be set to `rate = 1 - keep_prob`.\n",
      "W0717 00:41:51.451382 140335259002624 deprecation_wrapper.py:119] From /usr/local/lib/python3.5/dist-packages/keras/optimizers.py:790: The name tf.train.Optimizer is deprecated. Please use tf.compat.v1.train.Optimizer instead.\n",
      "\n",
      "W0717 00:41:51.460514 140335259002624 deprecation_wrapper.py:119] From /usr/local/lib/python3.5/dist-packages/keras/backend/tensorflow_backend.py:3295: The name tf.log is deprecated. Please use tf.math.log instead.\n",
      "\n"
     ]
    }
   ],
   "source": [
    "model = Sequential()\n",
    "\n",
    "model.add(\n",
    "  Conv2D(2, (2, 1000),\n",
    "         data_format=\"channels_last\",\n",
    "         padding=\"same\",\n",
    "         strides=2,\n",
    "         input_shape=(1000, 1000, 4)\n",
    "        )\n",
    ")\n",
    "model.add(MaxPooling2D(pool_size=(5, 5), strides=5))\n",
    "model.add(\n",
    "  Conv2D(4, (2, 500),\n",
    "         data_format=\"channels_last\",\n",
    "         padding=\"same\",\n",
    "         strides=2,\n",
    "         input_shape=(500, 500, 2)\n",
    "        )\n",
    ")\n",
    "model.add(MaxPooling2D(pool_size=(5, 5), strides=5))\n",
    "model.add(Dropout(0.25))\n",
    "model.add(Flatten())\n",
    "model.add(Dense(128, activation=\"relu\"))\n",
    "model.add(Dense(NUMBER_OF_GENRES, activation=\"softmax\"))\n",
    "\n",
    "model.compile(optimizer=optimizers.Adadelta(lr=LEARNING_RATE),\n",
    "              loss='categorical_crossentropy',\n",
    "              metrics=['accuracy'])"
   ]
  },
  {
   "cell_type": "code",
   "execution_count": 9,
   "metadata": {},
   "outputs": [
    {
     "name": "stderr",
     "output_type": "stream",
     "text": [
      "W0717 00:42:01.118667 140335259002624 deprecation.py:323] From /usr/local/lib/python3.5/dist-packages/tensorflow/python/ops/math_grad.py:1250: add_dispatch_support.<locals>.wrapper (from tensorflow.python.ops.array_ops) is deprecated and will be removed in a future version.\n",
      "Instructions for updating:\n",
      "Use tf.where in 2.0, which has the same broadcast rule as np.where\n"
     ]
    },
    {
     "name": "stdout",
     "output_type": "stream",
     "text": [
      "Train on 80 samples, validate on 20 samples\n",
      "Epoch 1/20\n",
      "80/80 [==============================] - 26s 330ms/step - loss: 2.1253 - acc: 0.1250 - val_loss: 2.1080 - val_acc: 0.1500\n",
      "Epoch 2/20\n",
      "80/80 [==============================] - 20s 248ms/step - loss: 2.0927 - acc: 0.1125 - val_loss: 2.1051 - val_acc: 0.0500\n",
      "Epoch 3/20\n",
      "80/80 [==============================] - 20s 248ms/step - loss: 2.0843 - acc: 0.1625 - val_loss: 2.1030 - val_acc: 0.0500\n",
      "Epoch 4/20\n",
      "80/80 [==============================] - 20s 249ms/step - loss: 2.0838 - acc: 0.1000 - val_loss: 2.1123 - val_acc: 0.0500\n",
      "Epoch 5/20\n",
      "80/80 [==============================] - 20s 250ms/step - loss: 2.0663 - acc: 0.1125 - val_loss: 2.1066 - val_acc: 0.0500\n",
      "Epoch 6/20\n",
      "80/80 [==============================] - 20s 250ms/step - loss: 2.0667 - acc: 0.1125 - val_loss: 2.1012 - val_acc: 0.0500\n",
      "Epoch 7/20\n",
      "80/80 [==============================] - 20s 250ms/step - loss: 2.0675 - acc: 0.1500 - val_loss: 2.0917 - val_acc: 0.0500\n",
      "Epoch 8/20\n",
      "80/80 [==============================] - 20s 250ms/step - loss: 2.0815 - acc: 0.1625 - val_loss: 2.1014 - val_acc: 0.0500\n",
      "Epoch 9/20\n",
      "80/80 [==============================] - 20s 250ms/step - loss: 2.0683 - acc: 0.1625 - val_loss: 2.1143 - val_acc: 0.0500\n",
      "Epoch 10/20\n",
      "80/80 [==============================] - 20s 249ms/step - loss: 2.0585 - acc: 0.1500 - val_loss: 2.1441 - val_acc: 0.0500\n",
      "Epoch 11/20\n",
      "80/80 [==============================] - 20s 250ms/step - loss: 2.0654 - acc: 0.1750 - val_loss: 2.1253 - val_acc: 0.0500\n",
      "Epoch 12/20\n",
      "80/80 [==============================] - 20s 250ms/step - loss: 2.0609 - acc: 0.1625 - val_loss: 2.1209 - val_acc: 0.0500\n",
      "Epoch 13/20\n",
      "80/80 [==============================] - 20s 250ms/step - loss: 2.0409 - acc: 0.1375 - val_loss: 2.1085 - val_acc: 0.0500\n",
      "Epoch 14/20\n",
      "80/80 [==============================] - 20s 250ms/step - loss: 2.0563 - acc: 0.1750 - val_loss: 2.0970 - val_acc: 0.0500\n",
      "Epoch 15/20\n",
      "80/80 [==============================] - 20s 251ms/step - loss: 2.0485 - acc: 0.1875 - val_loss: 2.1060 - val_acc: 0.1000\n",
      "Epoch 16/20\n",
      "80/80 [==============================] - 20s 250ms/step - loss: 2.0590 - acc: 0.1250 - val_loss: 2.1176 - val_acc: 0.0500\n",
      "Epoch 17/20\n",
      "80/80 [==============================] - 20s 250ms/step - loss: 2.0516 - acc: 0.1625 - val_loss: 2.1129 - val_acc: 0.1000\n",
      "Epoch 18/20\n",
      "80/80 [==============================] - 20s 250ms/step - loss: 2.0170 - acc: 0.2750 - val_loss: 2.1087 - val_acc: 0.1000\n",
      "Epoch 19/20\n",
      "80/80 [==============================] - 20s 250ms/step - loss: 2.0536 - acc: 0.1625 - val_loss: 2.1157 - val_acc: 0.1000\n",
      "Epoch 20/20\n",
      "80/80 [==============================] - 20s 250ms/step - loss: 2.0189 - acc: 0.2000 - val_loss: 2.1167 - val_acc: 0.1000\n"
     ]
    }
   ],
   "source": [
    "history = model.fit(\n",
    "  train_data,\n",
    "  dummy_labels,\n",
    "  batch_size=BATCH_SIZE,\n",
    "  epochs=EPOCHS,\n",
    "  validation_split=0.2,\n",
    "  verbose=1\n",
    ")"
   ]
  },
  {
   "cell_type": "markdown",
   "metadata": {},
   "source": [
    "## Plotting Accuracy and Loss"
   ]
  },
  {
   "cell_type": "code",
   "execution_count": 11,
   "metadata": {},
   "outputs": [
    {
     "data": {
      "image/png": "[encoded data removed]",
      "text/plain": [
       "<Figure size 432x288 with 1 Axes>"
      ]
     },
     "metadata": {
      "needs_background": "light"
     },
     "output_type": "display_data"
    },
    {
     "data": {
      "image/png": "[encoded data removed]",
      "text/plain": [
       "<Figure size 432x288 with 1 Axes>"
      ]
     },
     "metadata": {
      "needs_background": "light"
     },
     "output_type": "display_data"
    }
   ],
   "source": [
    "# Plot training & validation accuracy values\n",
    "plt.plot(history.history['acc'])\n",
    "plt.plot(history.history['val_acc'])\n",
    "plt.title('Model accuracy')\n",
    "plt.ylabel('Accuracy')\n",
    "plt.xlabel('Epoch')\n",
    "plt.legend(['Train', 'Test'], loc='upper left')\n",
    "plt.show()\n",
    "\n",
    "# Plot training & validation loss values\n",
    "plt.plot(history.history['loss'])\n",
    "plt.plot(history.history['val_loss'])\n",
    "plt.title('Model loss')\n",
    "plt.ylabel('Loss')\n",
    "plt.xlabel('Epoch')\n",
    "plt.legend(['Train', 'Test'], loc='upper left')\n",
    "plt.show()"
   ]
  },
  {
   "cell_type": "code",
   "execution_count": 19,
   "metadata": {},
   "outputs": [
    {
     "name": "stdout",
     "output_type": "stream",
     "text": [
      "Saved model to disk\n"
     ]
    }
   ],
   "source": [
    "# serialize model to JSON\n",
    "model_json = model.to_json()\n",
    "with open(\"long-frame-model.json\", \"w\") as json_file:\n",
    "    json_file.write(model_json)\n",
    "\n",
    "# serialize weights to HDF5\n",
    "model.save_weights(\"long-frame-model.h5\")\n",
    "print(\"Saved model to disk\")"
   ]
  },
  {
   "cell_type": "code",
   "execution_count": 20,
   "metadata": {},
   "outputs": [],
   "source": [
    "# Save entire model\n",
    "model.save('long-frame-whole-model.h5')"
   ]
  },
  {
   "cell_type": "code",
   "execution_count": 15,
   "metadata": {},
   "outputs": [],
   "source": [
    "json_history = json.dumps(history.history)"
   ]
  },
  {
   "cell_type": "code",
   "execution_count": 17,
   "metadata": {},
   "outputs": [],
   "source": [
    "with open('./long-frame-json/whole-model/history-0-100.json', 'w') as file:\n",
    "    json.dump(json_history, file)"
   ]
  },
  {
   "cell_type": "code",
   "execution_count": 18,
   "metadata": {},
   "outputs": [],
   "source": [
    "with open('./long-frame-json/model-by-parts/history-0-100.json', 'w') as file:\n",
    "    json.dump(json_history, file)"
   ]
  },
  {
   "cell_type": "code",
   "execution_count": null,
   "metadata": {},
   "outputs": [],
   "source": []
  }
 ],
 "metadata": {
  "kernelspec": {
   "display_name": "Python 3",
   "language": "python",
   "name": "python3"
  },
  "language_info": {
   "codemirror_mode": {
    "name": "ipython",
    "version": 3
   },
   "file_extension": ".py",
   "mimetype": "text/x-python",
   "name": "python",
   "nbconvert_exporter": "python",
   "pygments_lexer": "ipython3",
   "version": "3.5.3"
  }
 },
 "nbformat": 4,
 "nbformat_minor": 2
}
