{
 "cells": [
  {
   "cell_type": "code",
   "execution_count": 1,
   "metadata": {},
   "outputs": [
    {
     "name": "stderr",
     "output_type": "stream",
     "text": [
      "Using TensorFlow backend.\n"
     ]
    }
   ],
   "source": [
    "import tensorflow as tf\n",
    "import numpy as np\n",
    "import pandas as pd\n",
    "from PIL import Image\n",
    "import os\n",
    "import re\n",
    "import random\n",
    "from keras.models import Sequential\n",
    "from keras.layers import Dense, Conv2D, Flatten, MaxPooling2D, Reshape, Dropout\n",
    "from keras import optimizers\n",
    "from keras.callbacks import TensorBoard\n",
    "import sys\n",
    "from keras.utils import plot_model"
   ]
  },
  {
   "cell_type": "markdown",
   "metadata": {},
   "source": [
    "## Constants"
   ]
  },
  {
   "cell_type": "code",
   "execution_count": 2,
   "metadata": {},
   "outputs": [],
   "source": [
    "NUMBER_OF_GENRES = 8\n",
    "TRAIN_FILES_DIR = './train_files/'\n",
    "CSV_FILE_PATH = './small_train_labels.csv'"
   ]
  },
  {
   "cell_type": "code",
   "execution_count": 3,
   "metadata": {},
   "outputs": [],
   "source": [
    "csv_file = pd.read_csv(CSV_FILE_PATH)\n",
    "all_genres = csv_file['genre'].unique()\n",
    "genre_to_index = {genre: index for index, genre in enumerate(all_genres)}"
   ]
  },
  {
   "cell_type": "code",
   "execution_count": 4,
   "metadata": {},
   "outputs": [],
   "source": [
    "sess = tf.Session(config=tf.ConfigProto(log_device_placement=True))"
   ]
  },
  {
   "cell_type": "markdown",
   "metadata": {},
   "source": [
    "## Hyper Parameters"
   ]
  },
  {
   "cell_type": "code",
   "execution_count": 8,
   "metadata": {},
   "outputs": [],
   "source": [
    "UNIFORM_IMAGE_SIZE = (1000, 1000)\n",
    "EPOCHS = 20\n",
    "BATCH_SIZE = 10\n",
    "LEARNING_RATE = 0.01\n",
    "START = 0\n",
    "FINISH = 100"
   ]
  },
  {
   "cell_type": "code",
   "execution_count": 9,
   "metadata": {},
   "outputs": [],
   "source": [
    "def build_train_and_test_data():\n",
    "  train_data = []\n",
    "  train_labels = []\n",
    "\n",
    "  list_of_files = os.listdir(TRAIN_FILES_DIR)[START:FINISH]\n",
    "  for file_index, file in enumerate(list_of_files):\n",
    "    raw_image = Image.open(TRAIN_FILES_DIR + file)\n",
    "    resized_image = raw_image.resize(UNIFORM_IMAGE_SIZE)\n",
    "    image_tensor = np.asarray(resized_image)\n",
    "    train_data.append(image_tensor)\n",
    "\n",
    "    file_as_str_number = re.sub('([a-z])|(\\.)', '', file)\n",
    "    label_name = csv_file[csv_file['track_id'] == int(file_as_str_number)]['genre'].values[0]\n",
    "    train_labels.append(genre_to_index[label_name])\n",
    "  return (\n",
    "    np.array(train_data).astype(np.float32),\n",
    "    np.array(train_labels, np.int32)\n",
    "  )"
   ]
  },
  {
   "cell_type": "code",
   "execution_count": null,
   "metadata": {},
   "outputs": [],
   "source": []
  },
  {
   "cell_type": "code",
   "execution_count": 10,
   "metadata": {},
   "outputs": [],
   "source": [
    "train_data, train_labels = build_train_and_test_data()\n",
    "train_data /= 255\n",
    "\n",
    "dummy_labels = np.zeros((len(train_labels), NUMBER_OF_GENRES), np.float32)\n",
    "\n",
    "for index, label in enumerate(train_labels):\n",
    "  dummy_labels[index][label] = 1"
   ]
  },
  {
   "cell_type": "code",
   "execution_count": null,
   "metadata": {},
   "outputs": [],
   "source": []
  },
  {
   "cell_type": "code",
   "execution_count": 11,
   "metadata": {},
   "outputs": [
    {
     "name": "stderr",
     "output_type": "stream",
     "text": [
      "WARNING: Logging before flag parsing goes to stderr.\n",
      "W0716 22:49:14.891326 139644841965312 deprecation_wrapper.py:119] From /usr/local/lib/python3.5/dist-packages/keras/backend/tensorflow_backend.py:74: The name tf.get_default_graph is deprecated. Please use tf.compat.v1.get_default_graph instead.\n",
      "\n",
      "W0716 22:49:14.893570 139644841965312 deprecation_wrapper.py:119] From /usr/local/lib/python3.5/dist-packages/keras/backend/tensorflow_backend.py:517: The name tf.placeholder is deprecated. Please use tf.compat.v1.placeholder instead.\n",
      "\n",
      "W0716 22:49:14.897939 139644841965312 deprecation_wrapper.py:119] From /usr/local/lib/python3.5/dist-packages/keras/backend/tensorflow_backend.py:4138: The name tf.random_uniform is deprecated. Please use tf.random.uniform instead.\n",
      "\n",
      "W0716 22:49:14.913701 139644841965312 deprecation_wrapper.py:119] From /usr/local/lib/python3.5/dist-packages/keras/backend/tensorflow_backend.py:3976: The name tf.nn.max_pool is deprecated. Please use tf.nn.max_pool2d instead.\n",
      "\n",
      "W0716 22:49:14.931324 139644841965312 deprecation_wrapper.py:119] From /usr/local/lib/python3.5/dist-packages/keras/backend/tensorflow_backend.py:133: The name tf.placeholder_with_default is deprecated. Please use tf.compat.v1.placeholder_with_default instead.\n",
      "\n",
      "W0716 22:49:14.941697 139644841965312 deprecation.py:506] From /usr/local/lib/python3.5/dist-packages/keras/backend/tensorflow_backend.py:3445: calling dropout (from tensorflow.python.ops.nn_ops) with keep_prob is deprecated and will be removed in a future version.\n",
      "Instructions for updating:\n",
      "Please use `rate` instead of `keep_prob`. Rate should be set to `rate = 1 - keep_prob`.\n",
      "W0716 22:49:15.008190 139644841965312 deprecation_wrapper.py:119] From /usr/local/lib/python3.5/dist-packages/keras/optimizers.py:790: The name tf.train.Optimizer is deprecated. Please use tf.compat.v1.train.Optimizer instead.\n",
      "\n",
      "W0716 22:49:15.018094 139644841965312 deprecation_wrapper.py:119] From /usr/local/lib/python3.5/dist-packages/keras/backend/tensorflow_backend.py:3295: The name tf.log is deprecated. Please use tf.math.log instead.\n",
      "\n"
     ]
    }
   ],
   "source": [
    "model = Sequential()\n",
    "\n",
    "model.add(\n",
    "  Conv2D(6, (5, 5),\n",
    "         data_format=\"channels_last\",\n",
    "         padding=\"same\",\n",
    "         strides=1,\n",
    "         input_shape=(1000, 1000, 4)\n",
    "        )\n",
    ")\n",
    "model.add(MaxPooling2D(pool_size=(5, 5), strides=5))\n",
    "model.add(\n",
    "  Conv2D(12, (5, 5),\n",
    "         data_format=\"channels_last\",\n",
    "         padding=\"same\",\n",
    "         strides=1,\n",
    "         input_shape=(500, 500, 6)\n",
    "        )\n",
    ")\n",
    "model.add(MaxPooling2D(pool_size=(5, 5), strides=5))\n",
    "model.add(Dropout(0.25))\n",
    "model.add(Flatten())\n",
    "model.add(Dense(128, activation=\"relu\"))\n",
    "model.add(Dense(NUMBER_OF_GENRES, activation=\"softmax\"))\n",
    "\n",
    "model.compile(optimizer=optimizers.Adadelta(lr=LEARNING_RATE),\n",
    "              loss='categorical_crossentropy',\n",
    "              metrics=['accuracy'])"
   ]
  },
  {
   "cell_type": "code",
   "execution_count": 12,
   "metadata": {},
   "outputs": [],
   "source": [
    "plot_model(model, to_file='model.png')"
   ]
  },
  {
   "cell_type": "code",
   "execution_count": 13,
   "metadata": {},
   "outputs": [
    {
     "data": {
      "image/svg+xml": [
       "<svg height=\"629pt\" viewBox=\"0.00 0.00 215.00 629.00\" width=\"215pt\" xmlns=\"http://www.w3.org/2000/svg\" xmlns:xlink=\"http://www.w3.org/1999/xlink\">\n",
       "<g class=\"graph\" id=\"graph0\" transform=\"scale(1 1) rotate(0) translate(4 625)\">\n",
       "<title>G</title>\n",
       "<polygon fill=\"white\" points=\"-4,4 -4,-625 211,-625 211,4 -4,4\" stroke=\"none\"/>\n",
       "<!-- 139642474751984 -->\n",
       "<g class=\"node\" id=\"node1\"><title>139642474751984</title>\n",
       "<polygon fill=\"none\" points=\"42,-511.5 42,-547.5 165,-547.5 165,-511.5 42,-511.5\" stroke=\"black\"/>\n",
       "<text font-family=\"Times,serif\" font-size=\"14.00\" text-anchor=\"middle\" x=\"103.5\" y=\"-525.8\">conv2d_1: Conv2D</text>\n",
       "</g>\n",
       "<!-- 139642474752432 -->\n",
       "<g class=\"node\" id=\"node2\"><title>139642474752432</title>\n",
       "<polygon fill=\"none\" points=\"0,-438.5 0,-474.5 207,-474.5 207,-438.5 0,-438.5\" stroke=\"black\"/>\n",
       "<text font-family=\"Times,serif\" font-size=\"14.00\" text-anchor=\"middle\" x=\"103.5\" y=\"-452.8\">max_pooling2d_1: MaxPooling2D</text>\n",
       "</g>\n",
       "<!-- 139642474751984&#45;&gt;139642474752432 -->\n",
       "<g class=\"edge\" id=\"edge2\"><title>139642474751984-&gt;139642474752432</title>\n",
       "<path d=\"M103.5,-511.313C103.5,-503.289 103.5,-493.547 103.5,-484.569\" fill=\"none\" stroke=\"black\"/>\n",
       "<polygon fill=\"black\" points=\"107,-484.529 103.5,-474.529 100,-484.529 107,-484.529\" stroke=\"black\"/>\n",
       "</g>\n",
       "<!-- 139642474753160 -->\n",
       "<g class=\"node\" id=\"node3\"><title>139642474753160</title>\n",
       "<polygon fill=\"none\" points=\"42,-365.5 42,-401.5 165,-401.5 165,-365.5 42,-365.5\" stroke=\"black\"/>\n",
       "<text font-family=\"Times,serif\" font-size=\"14.00\" text-anchor=\"middle\" x=\"103.5\" y=\"-379.8\">conv2d_2: Conv2D</text>\n",
       "</g>\n",
       "<!-- 139642474752432&#45;&gt;139642474753160 -->\n",
       "<g class=\"edge\" id=\"edge3\"><title>139642474752432-&gt;139642474753160</title>\n",
       "<path d=\"M103.5,-438.313C103.5,-430.289 103.5,-420.547 103.5,-411.569\" fill=\"none\" stroke=\"black\"/>\n",
       "<polygon fill=\"black\" points=\"107,-411.529 103.5,-401.529 100,-411.529 107,-411.529\" stroke=\"black\"/>\n",
       "</g>\n",
       "<!-- 139642474753384 -->\n",
       "<g class=\"node\" id=\"node4\"><title>139642474753384</title>\n",
       "<polygon fill=\"none\" points=\"0,-292.5 0,-328.5 207,-328.5 207,-292.5 0,-292.5\" stroke=\"black\"/>\n",
       "<text font-family=\"Times,serif\" font-size=\"14.00\" text-anchor=\"middle\" x=\"103.5\" y=\"-306.8\">max_pooling2d_2: MaxPooling2D</text>\n",
       "</g>\n",
       "<!-- 139642474753160&#45;&gt;139642474753384 -->\n",
       "<g class=\"edge\" id=\"edge4\"><title>139642474753160-&gt;139642474753384</title>\n",
       "<path d=\"M103.5,-365.313C103.5,-357.289 103.5,-347.547 103.5,-338.569\" fill=\"none\" stroke=\"black\"/>\n",
       "<polygon fill=\"black\" points=\"107,-338.529 103.5,-328.529 100,-338.529 107,-338.529\" stroke=\"black\"/>\n",
       "</g>\n",
       "<!-- 139642474778296 -->\n",
       "<g class=\"node\" id=\"node5\"><title>139642474778296</title>\n",
       "<polygon fill=\"none\" points=\"41,-219.5 41,-255.5 166,-255.5 166,-219.5 41,-219.5\" stroke=\"black\"/>\n",
       "<text font-family=\"Times,serif\" font-size=\"14.00\" text-anchor=\"middle\" x=\"103.5\" y=\"-233.8\">dropout_1: Dropout</text>\n",
       "</g>\n",
       "<!-- 139642474753384&#45;&gt;139642474778296 -->\n",
       "<g class=\"edge\" id=\"edge5\"><title>139642474753384-&gt;139642474778296</title>\n",
       "<path d=\"M103.5,-292.313C103.5,-284.289 103.5,-274.547 103.5,-265.569\" fill=\"none\" stroke=\"black\"/>\n",
       "<polygon fill=\"black\" points=\"107,-265.529 103.5,-255.529 100,-265.529 107,-265.529\" stroke=\"black\"/>\n",
       "</g>\n",
       "<!-- 139642474878960 -->\n",
       "<g class=\"node\" id=\"node6\"><title>139642474878960</title>\n",
       "<polygon fill=\"none\" points=\"48.5,-146.5 48.5,-182.5 158.5,-182.5 158.5,-146.5 48.5,-146.5\" stroke=\"black\"/>\n",
       "<text font-family=\"Times,serif\" font-size=\"14.00\" text-anchor=\"middle\" x=\"103.5\" y=\"-160.8\">flatten_1: Flatten</text>\n",
       "</g>\n",
       "<!-- 139642474778296&#45;&gt;139642474878960 -->\n",
       "<g class=\"edge\" id=\"edge6\"><title>139642474778296-&gt;139642474878960</title>\n",
       "<path d=\"M103.5,-219.313C103.5,-211.289 103.5,-201.547 103.5,-192.569\" fill=\"none\" stroke=\"black\"/>\n",
       "<polygon fill=\"black\" points=\"107,-192.529 103.5,-182.529 100,-192.529 107,-192.529\" stroke=\"black\"/>\n",
       "</g>\n",
       "<!-- 139642474879184 -->\n",
       "<g class=\"node\" id=\"node7\"><title>139642474879184</title>\n",
       "<polygon fill=\"none\" points=\"52.5,-73.5 52.5,-109.5 154.5,-109.5 154.5,-73.5 52.5,-73.5\" stroke=\"black\"/>\n",
       "<text font-family=\"Times,serif\" font-size=\"14.00\" text-anchor=\"middle\" x=\"103.5\" y=\"-87.8\">dense_1: Dense</text>\n",
       "</g>\n",
       "<!-- 139642474878960&#45;&gt;139642474879184 -->\n",
       "<g class=\"edge\" id=\"edge7\"><title>139642474878960-&gt;139642474879184</title>\n",
       "<path d=\"M103.5,-146.313C103.5,-138.289 103.5,-128.547 103.5,-119.569\" fill=\"none\" stroke=\"black\"/>\n",
       "<polygon fill=\"black\" points=\"107,-119.529 103.5,-109.529 100,-119.529 107,-119.529\" stroke=\"black\"/>\n",
       "</g>\n",
       "<!-- 139642474879296 -->\n",
       "<g class=\"node\" id=\"node8\"><title>139642474879296</title>\n",
       "<polygon fill=\"none\" points=\"52.5,-0.5 52.5,-36.5 154.5,-36.5 154.5,-0.5 52.5,-0.5\" stroke=\"black\"/>\n",
       "<text font-family=\"Times,serif\" font-size=\"14.00\" text-anchor=\"middle\" x=\"103.5\" y=\"-14.8\">dense_2: Dense</text>\n",
       "</g>\n",
       "<!-- 139642474879184&#45;&gt;139642474879296 -->\n",
       "<g class=\"edge\" id=\"edge8\"><title>139642474879184-&gt;139642474879296</title>\n",
       "<path d=\"M103.5,-73.3129C103.5,-65.2895 103.5,-55.5475 103.5,-46.5691\" fill=\"none\" stroke=\"black\"/>\n",
       "<polygon fill=\"black\" points=\"107,-46.5288 103.5,-36.5288 100,-46.5289 107,-46.5288\" stroke=\"black\"/>\n",
       "</g>\n",
       "<!-- 139642474753048 -->\n",
       "<g class=\"node\" id=\"node9\"><title>139642474753048</title>\n",
       "<polygon fill=\"none\" points=\"44.5,-584.5 44.5,-620.5 162.5,-620.5 162.5,-584.5 44.5,-584.5\" stroke=\"black\"/>\n",
       "<text font-family=\"Times,serif\" font-size=\"14.00\" text-anchor=\"middle\" x=\"103.5\" y=\"-598.8\">139642474753048</text>\n",
       "</g>\n",
       "<!-- 139642474753048&#45;&gt;139642474751984 -->\n",
       "<g class=\"edge\" id=\"edge1\"><title>139642474753048-&gt;139642474751984</title>\n",
       "<path d=\"M103.5,-584.313C103.5,-576.289 103.5,-566.547 103.5,-557.569\" fill=\"none\" stroke=\"black\"/>\n",
       "<polygon fill=\"black\" points=\"107,-557.529 103.5,-547.529 100,-557.529 107,-557.529\" stroke=\"black\"/>\n",
       "</g>\n",
       "</g>\n",
       "</svg>"
      ],
      "text/plain": [
       "<IPython.core.display.SVG object>"
      ]
     },
     "execution_count": 13,
     "metadata": {},
     "output_type": "execute_result"
    }
   ],
   "source": [
    "from IPython.display import SVG\n",
    "from keras.utils.vis_utils import model_to_dot\n",
    "\n",
    "SVG(model_to_dot(model).create(prog='dot', format='svg'))"
   ]
  },
  {
   "cell_type": "code",
   "execution_count": null,
   "metadata": {},
   "outputs": [],
   "source": []
  },
  {
   "cell_type": "code",
   "execution_count": null,
   "metadata": {},
   "outputs": [],
   "source": []
  },
  {
   "cell_type": "code",
   "execution_count": 14,
   "metadata": {},
   "outputs": [
    {
     "name": "stderr",
     "output_type": "stream",
     "text": [
      "W0716 22:49:30.391713 139644841965312 deprecation.py:323] From /usr/local/lib/python3.5/dist-packages/tensorflow/python/ops/math_grad.py:1250: add_dispatch_support.<locals>.wrapper (from tensorflow.python.ops.array_ops) is deprecated and will be removed in a future version.\n",
      "Instructions for updating:\n",
      "Use tf.where in 2.0, which has the same broadcast rule as np.where\n"
     ]
    },
    {
     "name": "stdout",
     "output_type": "stream",
     "text": [
      "Train on 80 samples, validate on 20 samples\n",
      "Epoch 1/20\n",
      "80/80 [==============================] - 7s 89ms/step - loss: 2.2289 - acc: 0.1125 - val_loss: 2.1077 - val_acc: 0.1000\n",
      "Epoch 2/20\n",
      "80/80 [==============================] - 4s 53ms/step - loss: 2.0937 - acc: 0.1625 - val_loss: 2.0902 - val_acc: 0.1500\n",
      "Epoch 3/20\n",
      "80/80 [==============================] - 4s 53ms/step - loss: 2.0467 - acc: 0.2125 - val_loss: 2.0847 - val_acc: 0.1000\n",
      "Epoch 4/20\n",
      "80/80 [==============================] - 4s 52ms/step - loss: 1.9838 - acc: 0.2625 - val_loss: 2.0340 - val_acc: 0.2500\n",
      "Epoch 5/20\n",
      "80/80 [==============================] - 4s 53ms/step - loss: 2.0516 - acc: 0.2750 - val_loss: 1.9677 - val_acc: 0.2000\n",
      "Epoch 6/20\n",
      "80/80 [==============================] - 4s 53ms/step - loss: 1.9146 - acc: 0.4000 - val_loss: 1.9584 - val_acc: 0.2500\n",
      "Epoch 7/20\n",
      "80/80 [==============================] - 4s 53ms/step - loss: 1.9236 - acc: 0.3000 - val_loss: 1.9544 - val_acc: 0.3000\n",
      "Epoch 8/20\n",
      "80/80 [==============================] - 4s 53ms/step - loss: 1.9262 - acc: 0.3250 - val_loss: 1.9298 - val_acc: 0.3000\n",
      "Epoch 9/20\n",
      "80/80 [==============================] - 4s 53ms/step - loss: 1.8782 - acc: 0.3750 - val_loss: 1.9177 - val_acc: 0.2500\n",
      "Epoch 10/20\n",
      "80/80 [==============================] - 4s 53ms/step - loss: 1.8846 - acc: 0.3375 - val_loss: 1.8823 - val_acc: 0.2500\n",
      "Epoch 11/20\n",
      "80/80 [==============================] - 4s 53ms/step - loss: 1.8332 - acc: 0.3500 - val_loss: 1.8542 - val_acc: 0.2500\n",
      "Epoch 12/20\n",
      "80/80 [==============================] - 4s 53ms/step - loss: 1.8507 - acc: 0.3250 - val_loss: 1.8863 - val_acc: 0.2000\n",
      "Epoch 13/20\n",
      "80/80 [==============================] - 4s 53ms/step - loss: 1.8266 - acc: 0.3750 - val_loss: 1.8261 - val_acc: 0.3000\n",
      "Epoch 14/20\n",
      "80/80 [==============================] - 4s 53ms/step - loss: 1.7882 - acc: 0.3500 - val_loss: 1.8321 - val_acc: 0.2500\n",
      "Epoch 15/20\n",
      "80/80 [==============================] - 4s 53ms/step - loss: 1.7819 - acc: 0.3750 - val_loss: 1.8146 - val_acc: 0.2500\n",
      "Epoch 16/20\n",
      "80/80 [==============================] - 4s 53ms/step - loss: 1.7141 - acc: 0.4500 - val_loss: 1.8022 - val_acc: 0.2500\n",
      "Epoch 17/20\n",
      "80/80 [==============================] - 4s 53ms/step - loss: 1.7363 - acc: 0.4125 - val_loss: 1.8323 - val_acc: 0.3000\n",
      "Epoch 18/20\n",
      "80/80 [==============================] - 4s 53ms/step - loss: 1.7124 - acc: 0.4625 - val_loss: 1.7986 - val_acc: 0.2500\n",
      "Epoch 19/20\n",
      "80/80 [==============================] - 4s 53ms/step - loss: 1.7524 - acc: 0.4250 - val_loss: 1.7958 - val_acc: 0.3000\n",
      "Epoch 20/20\n",
      "80/80 [==============================] - 4s 53ms/step - loss: 1.6877 - acc: 0.4000 - val_loss: 1.8047 - val_acc: 0.3000\n"
     ]
    }
   ],
   "source": [
    "history = model.fit(\n",
    "  train_data,\n",
    "  dummy_labels,\n",
    "  batch_size=BATCH_SIZE,\n",
    "  epochs=EPOCHS,\n",
    "  validation_split=0.2,\n",
    "  verbose=1\n",
    ")"
   ]
  },
  {
   "cell_type": "code",
   "execution_count": null,
   "metadata": {},
   "outputs": [],
   "source": []
  },
  {
   "cell_type": "code",
   "execution_count": 25,
   "metadata": {},
   "outputs": [
    {
     "name": "stdout",
     "output_type": "stream",
     "text": [
      "Saved model to disk\n"
     ]
    }
   ],
   "source": [
    "# serialize model to JSON\n",
    "model_json = model.to_json()\n",
    "with open(\"model.json\", \"w\") as json_file:\n",
    "    json_file.write(model_json)\n",
    "\n",
    "# serialize weights to HDF5\n",
    "model.save_weights(\"model.h5\")\n",
    "print(\"Saved model to disk\")"
   ]
  },
  {
   "cell_type": "code",
   "execution_count": null,
   "metadata": {},
   "outputs": [],
   "source": []
  },
  {
   "cell_type": "code",
   "execution_count": 16,
   "metadata": {},
   "outputs": [],
   "source": [
    "# Save entire model\n",
    "model.save('whole_model.h5')"
   ]
  },
  {
   "cell_type": "raw",
   "metadata": {},
   "source": []
  },
  {
   "cell_type": "code",
   "execution_count": 18,
   "metadata": {},
   "outputs": [
    {
     "data": {
      "image/png": "[encoded data removed]",
      "text/plain": [
       "<Figure size 432x288 with 1 Axes>"
      ]
     },
     "metadata": {
      "needs_background": "light"
     },
     "output_type": "display_data"
    },
    {
     "data": {
      "image/png": "[encoded data removed]",
      "text/plain": [
       "<Figure size 432x288 with 1 Axes>"
      ]
     },
     "metadata": {
      "needs_background": "light"
     },
     "output_type": "display_data"
    }
   ],
   "source": [
    "import matplotlib.pyplot as plt\n",
    "\n",
    "# Plot training & validation accuracy values\n",
    "plt.plot(history.history['acc'])\n",
    "plt.plot(history.history['val_acc'])\n",
    "plt.title('Model accuracy')\n",
    "plt.ylabel('Accuracy')\n",
    "plt.xlabel('Epoch')\n",
    "plt.legend(['Train', 'Test'], loc='upper left')\n",
    "plt.show()\n",
    "\n",
    "# Plot training & validation loss values\n",
    "plt.plot(history.history['loss'])\n",
    "plt.plot(history.history['val_loss'])\n",
    "plt.title('Model loss')\n",
    "plt.ylabel('Loss')\n",
    "plt.xlabel('Epoch')\n",
    "plt.legend(['Train', 'Test'], loc='upper left')\n",
    "plt.show()"
   ]
  },
  {
   "cell_type": "code",
   "execution_count": 27,
   "metadata": {},
   "outputs": [
    {
     "data": {
      "text/plain": [
       "{'acc': [0.12500000186264515,\n",
       "  0.12500000279396772,\n",
       "  0.1750000026077032,\n",
       "  0.15000000316649675,\n",
       "  0.12500000279396772,\n",
       "  0.1500000050291419,\n",
       "  0.1000000024214387,\n",
       "  0.12500000279396772,\n",
       "  0.2000000039115548,\n",
       "  0.21250000596046448],\n",
       " 'loss': [2.1717496812343597,\n",
       "  2.1269959062337875,\n",
       "  2.1014203131198883,\n",
       "  2.0955384969711304,\n",
       "  2.086530715227127,\n",
       "  2.107286259531975,\n",
       "  2.0721189826726913,\n",
       "  2.066954270005226,\n",
       "  2.0800295919179916,\n",
       "  2.0477344691753387],\n",
       " 'val_acc': [0.10000000149011612,\n",
       "  0.15000000223517418,\n",
       "  0.10000000149011612,\n",
       "  0.05000000074505806,\n",
       "  0.05000000074505806,\n",
       "  0.05000000074505806,\n",
       "  0.15000000223517418,\n",
       "  0.10000000149011612,\n",
       "  0.10000000149011612,\n",
       "  0.10000000149011612],\n",
       " 'val_loss': [2.2366178035736084,\n",
       "  2.218693494796753,\n",
       "  2.203678607940674,\n",
       "  2.1923086643218994,\n",
       "  2.1800873279571533,\n",
       "  2.170585870742798,\n",
       "  2.161180257797241,\n",
       "  2.1524921655654907,\n",
       "  2.144503951072693,\n",
       "  2.1380029916763306]}"
      ]
     },
     "execution_count": 27,
     "metadata": {},
     "output_type": "execute_result"
    }
   ],
   "source": [
    "history.history"
   ]
  },
  {
   "cell_type": "code",
   "execution_count": null,
   "metadata": {},
   "outputs": [],
   "source": []
  }
 ],
 "metadata": {
  "kernelspec": {
   "display_name": "Python 3",
   "language": "python",
   "name": "python3"
  },
  "language_info": {
   "codemirror_mode": {
    "name": "ipython",
    "version": 3
   },
   "file_extension": ".py",
   "mimetype": "text/x-python",
   "name": "python",
   "nbconvert_exporter": "python",
   "pygments_lexer": "ipython3",
   "version": "3.5.3"
  }
 },
 "nbformat": 4,
 "nbformat_minor": 2
}
